{
  "nbformat": 4,
  "nbformat_minor": 0,
  "metadata": {
    "colab": {
      "name": "GradlewBuildFromGithub.ipynb",
      "provenance": [],
      "authorship_tag": "ABX9TyN7ZARchuUzs5tCtQzQVGaB",
      "include_colab_link": true
    },
    "kernelspec": {
      "name": "python3",
      "display_name": "Python 3"
    },
    "language_info": {
      "name": "python"
    }
  },
  "cells": [
    {
      "cell_type": "markdown",
      "metadata": {
        "id": "view-in-github",
        "colab_type": "text"
      },
      "source": [
        "<a href=\"https://colab.research.google.com/github/SantiParris8/Twitch-View-Bot/blob/master/GradlewBuildForGithub.ipynb\" target=\"_parent\"><img src=\"https://colab.research.google.com/assets/colab-badge.svg\" alt=\"Open In Colab\"/></a>"
      ]
    },
    {
      "cell_type": "code",
      "metadata": {
        "id": "NLN0YVZLYDsQ"
      },
      "source": [
        "from google.colab import drive"
      ],
      "execution_count": null,
      "outputs": []
    },
    {
      "cell_type": "code",
      "metadata": {
        "colab": {
          "base_uri": "https://localhost:8080/"
        },
        "id": "HZdCEqZ6YZvL",
        "outputId": "5fdd78a2-ff4d-43fa-b580-f286465185dc"
      },
      "source": [
        "drive.mount(\"/content/gdrive\")"
      ],
      "execution_count": null,
      "outputs": [
        {
          "output_type": "stream",
          "text": [
            "Mounted at /content/gdrive\n"
          ],
          "name": "stdout"
        }
      ]
    },
    {
      "cell_type": "code",
      "metadata": {
        "colab": {
          "base_uri": "https://localhost:8080/"
        },
        "id": "vO1-g4OSYdhP",
        "outputId": "4641f6b8-f058-40c6-8178-f3ac9f036f78"
      },
      "source": [
        "!ls"
      ],
      "execution_count": null,
      "outputs": [
        {
          "output_type": "stream",
          "text": [
            "BruteforceHTTP\tTwitch-View  Twitch-View-Bot  Twitch-View-Bot_Upgraded\n"
          ],
          "name": "stdout"
        }
      ]
    },
    {
      "cell_type": "code",
      "metadata": {
        "colab": {
          "base_uri": "https://localhost:8080/"
        },
        "id": "eNs0rwr1YfXe",
        "outputId": "1e456b3f-624f-44f8-ea4b-48cbdc8cae79"
      },
      "source": [
        "!git clone https://github.com/OGSegu/Twitch-View-Bot\n"
      ],
      "execution_count": null,
      "outputs": [
        {
          "output_type": "stream",
          "text": [
            "Cloning into 'Twitch-View-Bot'...\n",
            "remote: Enumerating objects: 178, done.\u001b[K\n",
            "remote: Counting objects: 100% (178/178), done.\u001b[K\n",
            "remote: Compressing objects: 100% (110/110), done.\u001b[K\n",
            "remote: Total 178 (delta 69), reused 128 (delta 37), pack-reused 0\u001b[K\n",
            "Receiving objects: 100% (178/178), 86.37 KiB | 1.46 MiB/s, done.\n",
            "Resolving deltas: 100% (69/69), done.\n"
          ],
          "name": "stdout"
        }
      ]
    },
    {
      "cell_type": "code",
      "metadata": {
        "colab": {
          "base_uri": "https://localhost:8080/"
        },
        "id": "-bGKpG2qZD7n",
        "outputId": "3149cfe5-345b-40cb-9f33-d3421e299495"
      },
      "source": [
        "%cd Twitch-View"
      ],
      "execution_count": null,
      "outputs": [
        {
          "output_type": "stream",
          "text": [
            "/content/gdrive/My Drive/project_folder/Twitch-View\n"
          ],
          "name": "stdout"
        }
      ]
    },
    {
      "cell_type": "code",
      "metadata": {
        "id": "l9ugmKEZaiIo"
      },
      "source": [
        "!chmod 755 -R ./gradlew"
      ],
      "execution_count": null,
      "outputs": []
    },
    {
      "cell_type": "code",
      "metadata": {
        "colab": {
          "base_uri": "https://localhost:8080/"
        },
        "id": "oItHnB_cZPty",
        "outputId": "27f7138a-2985-4c17-d3fa-54b50066fcd6"
      },
      "source": [
        "!./gradlew build"
      ],
      "execution_count": null,
      "outputs": [
        {
          "output_type": "stream",
          "text": [
            "Downloading https://services.gradle.org/distributions/gradle-6.3-bin.zip\n",
            ".........10%..........20%..........30%.........40%..........50%..........60%.........70%..........80%..........90%..........100%\n",
            "\n",
            "Welcome to Gradle 6.3!\n",
            "\n",
            "Here are the highlights of this release:\n",
            " - Java 14 support\n",
            " - Improved error messages for unexpected failures\n",
            "\n",
            "For more details see https://docs.gradle.org/6.3/release-notes.html\n",
            "\n",
            "Starting a Gradle Daemon (subsequent builds will be faster)\n",
            "\n",
            "\n",
            "\u001b[2A\u001b[1B\u001b[1m> Starting Daemon\u001b[m\u001b[17D\u001b[1B\u001b[1A> IDLE\u001b[0K\u001b[6D\u001b[1B\u001b[2A\u001b[1m<\u001b[0;1m-------------> 0% INITIALIZING [17ms]\u001b[m\u001b[38D\u001b[2B\u001b[2A\u001b[1m<\u001b[0;1m-------------> 0% INITIALIZING [117ms]\u001b[m\u001b[39D\u001b[1B\u001b[1m> Evaluating settings\u001b[m\u001b[21D\u001b[1B\u001b[2A\u001b[1m<\u001b[0;1m-------------> 0% INITIALIZING [217ms]\u001b[m\u001b[39D\u001b[2B\u001b[2A\u001b[1m<\u001b[0;1m-------------> 0% INITIALIZING [317ms]\u001b[m\u001b[39D\u001b[2B\u001b[2A\u001b[1m<\u001b[0;1m-------------> 0% INITIALIZING [417ms]\u001b[m\u001b[39D\u001b[2B\u001b[2A\u001b[1m<\u001b[0;1m-------------> 0% INITIALIZING [517ms]\u001b[m\u001b[39D\u001b[2B\u001b[2A\u001b[1m<\u001b[0;1m-------------> 0% INITIALIZING [617ms]\u001b[m\u001b[39D\u001b[2B\u001b[2A\u001b[1m<\u001b[0;1m-------------> 0% INITIALIZING [717ms]\u001b[m\u001b[39D\u001b[2B\u001b[2A\u001b[1m<\u001b[0;1m-------------> 0% INITIALIZING [819ms]\u001b[m\u001b[39D\u001b[2B\u001b[2A\u001b[1m<\u001b[0;1m-------------> 0% INITIALIZING [917ms]\u001b[m\u001b[39D\u001b[2B\u001b[2A\u001b[1m<\u001b[0;1m-------------> 0% INITIALIZING [1s]\u001b[m\u001b[0K\u001b[36D\u001b[2B\u001b[1A\u001b[1m> Evaluating settings > Compiling /content/gdrive/My Drive/project_folder/Twitc\u001b[m\u001b[79D\u001b[1B\u001b[1A\u001b[1m> Evaluating settings\u001b[m\u001b[0K\u001b[21D\u001b[1B\u001b[1A\u001b[1m> Evaluating settings > Compiling /content/gdrive/My Drive/project_folder/Twitc\u001b[m\u001b[79D\u001b[1B\u001b[1A\u001b[1m> Evaluating settings\u001b[m\u001b[0K\u001b[21D\u001b[1B\u001b[2A\u001b[1m<\u001b[0;1m-------------> 0% CONFIGURING [1s]\u001b[m\u001b[0K\u001b[35D\u001b[1B\u001b[1m> Loading projects\u001b[m\u001b[0K\u001b[18D\u001b[1B\u001b[2A\u001b[1m<\u001b[0;1m-------------> 0% CONFIGURING [2s]\u001b[m\u001b[35D\u001b[1B> IDLE\u001b[0K\u001b[6D\u001b[1B\u001b[1A\u001b[1m> root project\u001b[m\u001b[14D\u001b[1B\u001b[1A\u001b[1m> root project > Compiling /content/gdrive/My Drive/project_folder/Twitch-View/\u001b[m\u001b[79D\u001b[1B\u001b[1A\u001b[1m> root project\u001b[m\u001b[0K\u001b[14D\u001b[1B\u001b[1A\u001b[1m> root project > Resolve dependencies of detachedConfiguration1\u001b[m\u001b[63D\u001b[1B\u001b[2A\u001b[1m<\u001b[0;1m-------------> 0% CONFIGURING [3s]\u001b[m\u001b[35D\u001b[2B\u001b[1A\u001b[1m> root project > Resolve dependencies of detachedConfiguration1 > org.openjfx.j\u001b[m\u001b[79D\u001b[1B\u001b[2A\u001b[1m<\u001b[0;1m-------------> 0% CONFIGURING [4s]\u001b[m\u001b[35D\u001b[2B\u001b[1A\u001b[1m> root project > Resolve dependencies of detachedConfiguration1\u001b[m\u001b[0K\u001b[63D\u001b[1B\u001b[2A\u001b[1m<\u001b[0;1m-------------> 0% CONFIGURING [5s]\u001b[m\u001b[35D\u001b[2B\u001b[1A\u001b[1m> root project > Resolve dependencies of :classpath > javafx-plugin-0.0.9.pom\u001b[m\u001b[77D\u001b[1B\u001b[2A\u001b[1m<\u001b[0;1m-------------> 0% CONFIGURING [6s]\u001b[m\u001b[35D\u001b[2B\n",
            "\u001b[3A\u001b[35C\u001b[0K\u001b[35D\u001b[1B\u001b[1m> root project > Resolve dependencies of :classpath > osdetector-gradle-plugin-\u001b[m\u001b[79D\u001b[1B\u001b[1m> root project > Resolve dependencies of :classpath > moduleplugin-1.7.0.pom\u001b[m\u001b[76D\u001b[1B\u001b[3A\u001b[1m<\u001b[0;1m-------------> 0% CONFIGURING [7s]\u001b[m\u001b[35D\u001b[3B\u001b[2A> IDLE\u001b[0K\u001b[6D\u001b[2B\u001b[1A\u001b[1m> root project > Resolve dependencies of :classpath > moduleplugin-1.7.0.module\u001b[m\u001b[79D\u001b[1B\u001b[1A\u001b[1m> root project > Resolve dependencies of :classpath > os-maven-plugin-1.6.0.pom\u001b[m\u001b[79D\u001b[1B\u001b[1A\u001b[1m> root project > Resolve dependencies of :classpath > oss-parent-9.pom\u001b[m\u001b[0K\u001b[70D\u001b[1B\u001b[3A\u001b[1m<\u001b[0;1m-------------> 0% CONFIGURING [8s]\u001b[m\u001b[35D\u001b[3B\u001b[1A\u001b[1m> root project > Resolve dependencies of :classpath\u001b[m\u001b[0K\u001b[51D\u001b[1B\u001b[2A\u001b[1m> root project > Resolve dependencies of :classpath > javaparser-symbol-solver-\u001b[m\u001b[79D\u001b[1B\u001b[1m> root project > Resolve dependencies of :classpath > joor-0.9.13.pom\u001b[m\u001b[69D\u001b[1B\u001b[1A\u001b[1m> root project > Resolve dependencies of :classpath > oss-parent-7.pom\u001b[m\u001b[70D\u001b[1B\u001b[1A> IDLE\u001b[0K\u001b[6D\u001b[1B\u001b[2A\u001b[1m> root project > Resolve dependencies of :classpath > javaparser-parent-3.13.5.\u001b[m\u001b[79D\u001b[2B\u001b[3A\u001b[1m<\u001b[0;1m-------------> 0% CONFIGURING [9s]\u001b[m\u001b[35D\u001b[1B\u001b[1m> root project > Resolve dependencies of :classpath\u001b[m\u001b[0K\u001b[51D\u001b[2B\u001b[2A\u001b[1m> root project > Resolve dependencies of :classpath > jsr305-3.0.2.pom\u001b[m\u001b[70D\u001b[2B\u001b[2A\u001b[1m> root project > Resolve dependencies of :classpath > javaparser-symbol-solver-\u001b[m\u001b[79D\u001b[1B\u001b[1m> root project > Resolve dependencies of :classpath > javaparser-symbol-solver-\u001b[m\u001b[79D\u001b[1B\u001b[1A\u001b[1m> root project > Resolve dependencies of :classpath > guava-27.0-jre.pom\u001b[m\u001b[0K\u001b[72D\u001b[1B\u001b[2A\u001b[1m> root project > Resolve dependencies of :classpath > javassist-3.24.0-GA.pom\u001b[m\u001b[0K\u001b[77D\u001b[2B\u001b[2A\u001b[1m> root project > Resolve dependencies of :classpath > javassist-3.24.0-GA.pom >\u001b[m\u001b[79D\u001b[1B\u001b[1m> root project > Resolve dependencies of :classpath > guava-parent-27.0-jre.pom\u001b[m\u001b[79D\u001b[1B\u001b[2A> IDLE\u001b[0K\u001b[6D\u001b[2B\u001b[3A\u001b[1m<\u001b[0;1m-------------> 0% CONFIGURING [10s]\u001b[m\u001b[36D\u001b[3B\u001b[1A\u001b[1m> root project > Resolve dependencies of :classpath > javaparser-core-3.13.5.po\u001b[m\u001b[79D\u001b[1B\u001b[2A\u001b[1m> root project > Resolve dependencies of :classpath > listenablefuture-9999.0-e\u001b[m\u001b[79D\u001b[1B\u001b[1m> root project > Resolve dependencies of :classpath > failureaccess-1.0.pom\u001b[m\u001b[0K\u001b[75D\u001b[1B\u001b[2A\u001b[1m> root project > Resolve dependencies of :classpath > guava-parent-26.0-android\u001b[m\u001b[79D\u001b[2B\u001b[1A> IDLE\u001b[0K\u001b[6D\u001b[1B\u001b[2A\u001b[1m> root project > Resolve dependencies of :classpath > error_prone_annotations-2\u001b[m\u001b[79D\u001b[1B\u001b[1m> root project > Resolve dependencies of :classpath > j2objc-annotations-1.1.po\u001b[m\u001b[79D\u001b[1B\u001b[3A\u001b[1m<\u001b[0;1m-------------> 0% CONFIGURING [11s]\u001b[m\u001b[36D\u001b[2B\u001b[1m> root project > Resolve dependencies of :classpath > animal-sniffer-annotation\u001b[m\u001b[79D\u001b[1B\u001b[1A\u001b[1m> root project > Resolve dependencies of :classpath > animal-sniffer-parent-1.1\u001b[m\u001b[79D\u001b[1B\u001b[2A\u001b[1m> root project > Resolve dependencies of :classpath > error_prone_parent-2.2.0.\u001b[m\u001b[79D\u001b[2B\u001b[1A\u001b[1m> root project > Resolve dependencies of :classpath > mojo-parent-40.pom\u001b[m\u001b[0K\u001b[72D\u001b[1B\u001b[2A> IDLE\u001b[0K\u001b[6D\u001b[1B\u001b[1m> root project > Resolve dependencies of :classpath\u001b[m\u001b[0K\u001b[51D\u001b[1B\u001b[1A\u001b[1m> root project > Resolve dependencies of :classpath > checker-qual-2.5.2.pom\u001b[m\u001b[76D\u001b[1B\u001b[1A\u001b[1m> root project > Resolve files of :classpath\u001b[m\u001b[0K\u001b[44D\u001b[1B\u001b[2A\u001b[1m> root project > Resolve files of :classpath > osdetector-gradle-plugin-1.6.1.j\u001b[m\u001b[79D\u001b[1B\u001b[1m> root project > Resolve files of :classpath > javafx-plugin-0.0.9.jar\u001b[m\u001b[70D\u001b[1B\u001b[3A\u001b[1m<\u001b[0;1m-------------> 0% CONFIGURING [12s]\u001b[m\u001b[36D\u001b[3B\u001b[2A\u001b[1m> root project > Resolve files of :classpath > os-maven-plugin-1.6.0.jar\u001b[m\u001b[0K\u001b[72D\u001b[2B\u001b[1A\u001b[1m> root project > Resolve files of :classpath > javaparser-symbol-solver-core-3.\u001b[m\u001b[79D\u001b[1B\u001b[2A\u001b[1m> root project > Resolve files of :classpath > os-maven-plugin-1.6.0.jar > 16 K\u001b[m\u001b[79D\u001b[2B\u001b[2A\u001b[1m> root project > Resolve files of :classpath > joor-0.9.13.jar\u001b[m\u001b[0K\u001b[62D\u001b[2B\u001b[3A\u001b[1m<\u001b[0;1m-------------> 0% CONFIGURING [13s]\u001b[m\u001b[36D\u001b[3B\u001b[2A\u001b[1m> root project > Resolve files of :classpath > javaparser-symbol-solver-logic-3\u001b[m\u001b[79D\u001b[1B\u001b[1m> root project > Resolve files of :classpath > javaparser-symbol-solver-model-3\u001b[m\u001b[79D\u001b[1B\u001b[2A\u001b[1m> root project > Resolve files of :classpath > guava-27.0-jre.jar\u001b[m\u001b[0K\u001b[65D\u001b[1B\u001b[1m> root project > Resolve files of :classpath > jsr305-3.0.2.jar\u001b[m\u001b[0K\u001b[63D\u001b[1B\u001b[1A\u001b[1m> root project > Resolve files of :classpath > javassist-3.24.0-GA.jar\u001b[m\u001b[70D\u001b[1B\u001b[2A\u001b[1m> root project > Resolve files of :classpath > guava-27.0-jre.jar > 132 KB/2.62\u001b[m\u001b[79D\u001b[2B\u001b[3A\u001b[1m<\u001b[0;1m-------------> 0% CONFIGURING [14s]\u001b[m\u001b[36D\u001b[1B\u001b[1m> root project > Resolve files of :classpath > guava-27.0-jre.jar > 959 KB/2.62\u001b[m\u001b[79D\u001b[2B\u001b[2A\u001b[1m> root project > Resolve files of :classpath > javaparser-core-3.13.5.jar\u001b[m\u001b[0K\u001b[73D\u001b[2B\u001b[1A\u001b[1m> root project > Resolve files of :classpath > javassist-3.24.0-GA.jar > 54 KB/\u001b[m\u001b[79D\u001b[1B\u001b[1A\u001b[1m> root project > Resolve files of :classpath > javassist-3.24.0-GA.jar > 506 KB\u001b[m\u001b[79D\u001b[1B\u001b[1A\u001b[1m> root project > Resolve files of :classpath > failureaccess-1.0.jar\u001b[m\u001b[0K\u001b[68D\u001b[1B\u001b[2A\u001b[1m> root project > Resolve files of :classpath > javaparser-core-3.13.5.jar > 62 \u001b[m\u001b[79D\u001b[2B\u001b[2A\u001b[1m> root project > Resolve files of :classpath > javaparser-core-3.13.5.jar > 655\u001b[m\u001b[79D\u001b[2B\u001b[2A\u001b[1m> root project > Resolve files of :classpath > checker-qual-2.5.2.jar\u001b[m\u001b[0K\u001b[69D\u001b[1B\u001b[1m> root project > Resolve files of :classpath > error_prone_annotations-2.2.0.ja\u001b[m\u001b[79D\u001b[1B\u001b[2A\u001b[1m> root project > Resolve files of :classpath > animal-sniffer-annotations-1.17.\u001b[m\u001b[79D\u001b[2B\u001b[1A\u001b[1m> root project > Resolve files of :classpath > moduleplugin-1.7.0.jar\u001b[m\u001b[0K\u001b[69D\u001b[1B\u001b[3A\u001b[1m<\u001b[0;1m-------------> 0% CONFIGURING [15s]\u001b[m\u001b[36D\u001b[3B\u001b[2A> IDLE\u001b[0K\u001b[6D\u001b[2B\u001b[1A\u001b[1m> root project > Resolve files of :classpath > moduleplugin-1.7.0.jar > 541 KB/\u001b[m\u001b[79D\u001b[1B\u001b[1A\u001b[1m> root project\u001b[m\u001b[0K\u001b[14D\u001b[1B\u001b[3A\u001b[1m<\u001b[0;1m-------------> 0% CONFIGURING [16s]\u001b[m\u001b[36D\u001b[3B\u001b[3A\u001b[1m<\u001b[0;1m-------------> 0% CONFIGURING [17s]\u001b[m\u001b[36D\u001b[3B\u001b[3A\u001b[0K\n",
            "\u001b[1m> Configure project :\u001b[m\u001b[0K\n",
            "Project : => no module-info.java found\u001b[0K\n",
            "\u001b[0K\n",
            "\u001b[0K\n",
            "\u001b[0K\n",
            "\u001b[3A\u001b[1m<\u001b[0;1m-------------> 0% CONFIGURING [17s]\u001b[m\u001b[36D\u001b[1B> IDLE\u001b[6D\u001b[1B\u001b[1m> root project\u001b[m\u001b[14D\u001b[1B\u001b[3A\u001b[1m<\u001b[0;1m-------------> 0% CONFIGURING [18s]\u001b[m\u001b[36D\u001b[3B\u001b[3A\u001b[1m<\u001b[0;32;1m=============\u001b[0;39;1m> 100% CONFIGURING [18s]\u001b[m\u001b[38D\u001b[2B\u001b[1m> Resolve dependencies of :runtimeClasspath\u001b[m\u001b[43D\u001b[1B\u001b[2A\u001b[1m> Resolve files of :runtimeClasspath > javafx-controls-16-linux.jar\u001b[m\u001b[67D\u001b[1B\u001b[1m> Resolve files of :runtimeClasspath > httpclient-4.5.13.jar > 183 KB/762 KB do\u001b[m\u001b[79D\u001b[1B\u001b[1A\u001b[1m> Resolve files of :runtimeClasspath > javafx-graphics-16-linux.jar\u001b[m\u001b[0K\u001b[67D\u001b[1B\u001b[1A\u001b[1m> Resolve files of :runtimeClasspath > javafx-graphics-16-linux.jar > 1.27 MB/4\u001b[m\u001b[79D\u001b[1B\u001b[3A\u001b[1m<\u001b[0;32;1m=============\u001b[0;39;1m> 100% CONFIGURING [19s]\u001b[m\u001b[38D\u001b[2B\u001b[1m> Resolve files of :runtimeClasspath > javafx-graphics-16-linux.jar > 3.68 MB/4\u001b[m\u001b[79D\u001b[1B\u001b[1A> IDLE\u001b[0K\u001b[6D\u001b[1B\u001b[1A\u001b[1m> Resolve files of :runtimeClasspath > httpcore-4.4.13.jar\u001b[m\u001b[58D\u001b[1B\u001b[2A\u001b[1m> Resolve files of :runtimeClasspath\u001b[m\u001b[0K\u001b[36D\u001b[1B> IDLE\u001b[0K\u001b[6D\u001b[1B\u001b[2A> IDLE\u001b[0K\u001b[6D\u001b[2B\u001b[3A\u001b[1m<\u001b[0;1m-------------> 0% EXECUTING [20s]\u001b[m\u001b[0K\u001b[34D\u001b[3B\u001b[2A\u001b[1m> :compileJava\u001b[m\u001b[14D\u001b[2B\u001b[3A\u001b[1m<\u001b[0;1m-------------> 0% EXECUTING [21s]\u001b[m\u001b[34D\u001b[3B\u001b[2A\u001b[1m> :compileJava > Resolve files of :compileClasspath\u001b[m\u001b[51D\u001b[2B\u001b[2A\u001b[1m> :compileJava\u001b[m\u001b[0K\u001b[14D\u001b[2B\u001b[3A\u001b[1m<\u001b[0;1m-------------> 0% EXECUTING [22s]\u001b[m\u001b[34D\u001b[3B\u001b[3A\u001b[1m<\u001b[0;1m-------------> 0% EXECUTING [23s]\u001b[m\u001b[34D\u001b[3B\u001b[3A\u001b[1m<\u001b[0;1m-------------> 0% EXECUTING [24s]\u001b[m\u001b[34D\u001b[3B\u001b[3A\u001b[1m<\u001b[0;1m-------------> 0% EXECUTING [25s]\u001b[m\u001b[34D\u001b[3B\u001b[3A\u001b[1m<\u001b[0;1m-------------> 0% EXECUTING [26s]\u001b[m\u001b[34D\u001b[3B\u001b[3A\u001b[1m<\u001b[0;1m-------------> 0% EXECUTING [27s]\u001b[m\u001b[34D\u001b[3B\u001b[3A\u001b[1m<\u001b[0;1m-------------> 0% EXECUTING [28s]\u001b[m\u001b[34D\u001b[3B\u001b[3A\u001b[1m<\u001b[0;1m-------------> 0% EXECUTING [29s]\u001b[m\u001b[34D\u001b[3B\u001b[3A\u001b[1m<\u001b[0;1m-------------> 0% EXECUTING [30s]\u001b[m\u001b[34D\u001b[3B\u001b[3A\u001b[1m<\u001b[0;1m-------------> 0% EXECUTING [31s]\u001b[m\u001b[34D\u001b[3B\u001b[3A\u001b[1m<\u001b[0;1m-------------> 0% EXECUTING [32s]\u001b[m\u001b[34D\u001b[3B\u001b[3A\u001b[1m<\u001b[0;1m-------------> 0% EXECUTING [33s]\u001b[m\u001b[34D\u001b[3B\u001b[3A\u001b[1m<\u001b[0;32;1m=\u001b[0;39;1m------------> 9% EXECUTING [33s]\u001b[m\u001b[34D\u001b[1B\u001b[1m> :processResources\u001b[m\u001b[19D\u001b[2B\u001b[3A\u001b[1m<\u001b[0;32;1m=\u001b[0;39;1m------------> 9% EXECUTING [34s]\u001b[m\u001b[34D\u001b[3B\u001b[3A\u001b[1m<\u001b[0;32;1m=\u001b[0;39;1m------------> 9% EXECUTING [35s]\u001b[m\u001b[34D\u001b[3B\u001b[3A\u001b[1m<\u001b[0;32;1m===\u001b[0;39;1m----------> 27% EXECUTING [35s]\u001b[m\u001b[35D\u001b[1B\u001b[1m> :jar\u001b[m\u001b[0K\u001b[6D\u001b[2B\u001b[3A\u001b[1m<\u001b[0;32;1m===\u001b[0;39;1m----------> 27% EXECUTING [36s]\u001b[m\u001b[35D\u001b[3B\u001b[3A\u001b[1m<\u001b[0;32;1m===\u001b[0;39;1m----------> 27% EXECUTING [37s]\u001b[m\u001b[35D\u001b[3B\u001b[3A\u001b[1m<\u001b[0;32;1m===\u001b[0;39;1m----------> 27% EXECUTING [38s]\u001b[m\u001b[35D\u001b[3B\u001b[3A\u001b[1m<\u001b[0;32;1m===\u001b[0;39;1m----------> 27% EXECUTING [39s]\u001b[m\u001b[35D\u001b[3B\u001b[3A\u001b[1m<\u001b[0;32;1m===\u001b[0;39;1m----------> 27% EXECUTING [40s]\u001b[m\u001b[35D\u001b[3B\u001b[3A\u001b[1m<\u001b[0;32;1m===\u001b[0;39;1m----------> 27% EXECUTING [41s]\u001b[m\u001b[35D\u001b[3B\u001b[3A\u001b[1m<\u001b[0;32;1m=========\u001b[0;39;1m----> 72% EXECUTING [41s]\u001b[m\u001b[35D\u001b[1B> IDLE\u001b[6D\u001b[2B\u001b[3A\u001b[0K\n",
            "Deprecated Gradle features were used in this build, making it incompatible with Gradle 7.0.\u001b[0K\n",
            "Use '--warning-mode all' to show the individual deprecation warnings.\u001b[0K\n",
            "See https://docs.gradle.org/6.3/userguide/command_line_interface.html#sec:command_line_warnings\n",
            "\n",
            "\u001b[32;1mBUILD SUCCESSFUL\u001b[0;39m in 51s\n",
            "3 actionable tasks: 3 executed\n",
            "\u001b[0K\n",
            "\u001b[0K\n",
            "\u001b[0K\n",
            "\u001b[3A\u001b[1m<\u001b[0;1m-------------> 0% WAITING\u001b[m\u001b[26D\u001b[1B> IDLE\u001b[6D\u001b[1B> IDLE\u001b[6D\u001b[1B\u001b[3A\u001b[2K\u001b[1B\u001b[2K\u001b[1B\u001b[2K\u001b[2A\u001b[m"
          ],
          "name": "stdout"
        }
      ]
    },
    {
      "cell_type": "code",
      "metadata": {
        "colab": {
          "base_uri": "https://localhost:8080/"
        },
        "id": "iL-Tj27Ya8PY",
        "outputId": "7869f7ed-74a4-4a2e-8a38-b52804d1af51"
      },
      "source": [
        "!ls"
      ],
      "execution_count": null,
      "outputs": [
        {
          "output_type": "stream",
          "text": [
            "sample_data\n"
          ],
          "name": "stdout"
        }
      ]
    }
  ]
}